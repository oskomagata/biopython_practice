{
 "cells": [
  {
   "cell_type": "markdown",
   "id": "7c6b6b9f",
   "metadata": {},
   "source": [
    "# Biopython practice\n",
    "\n",
    "## Download Reference Ganome Sequence before start!\n",
    "\n",
    "Reference\n",
    "https://biopython.org/DIST/docs/tutorial/Tutorial.html\n",
    "\n",
    "[*Aedes agypti* Data Description in Vectorbase](https://vectorbase.org/vectorbase/app/record/genomic-sequence/AaegL5_3#category:data-submission-annotation-and-curation)\n",
    "\n",
    "[Livapool 5.3 Genome Sequence \"VectorBase-53_AaegyptiLVP_AGWG_Genome.fasta\" Download in vectorbase](https://vectorbase.org/common/downloads/Current_Release/AaegyptiLVP_AGWG/fasta/data/VectorBase-53_AaegyptiLVP_AGWG_Genome.fasta)\n",
    "\n",
    "<font color=red>\n",
    "**Warning! The file size is large more than 1.2GB.**\n",
    "</font>\n",
    "\n",
    "in \"https://vectorbase.org/common/downloads/Current_Release/AaegyptiLVP_AGWG/fasta/data\"\n",
    "\n",
    "\n",
    "\n",
    "### Install biopython library\n",
    "\n",
    "\"pip install biopython\" or \"conda install biopython\" etc. \n",
    "\n"
   ]
  },
  {
   "cell_type": "code",
   "execution_count": 1,
   "id": "ece26b44",
   "metadata": {},
   "outputs": [],
   "source": [
    "# Bio is biopython library\n",
    "\n",
    "from Bio import SeqIO\n",
    "from Bio.Seq import Seq\n",
    "from Bio.SeqRecord import SeqRecord"
   ]
  },
  {
   "cell_type": "code",
   "execution_count": 2,
   "id": "f718749d",
   "metadata": {},
   "outputs": [],
   "source": [
    "#  SeqIO.index is gradually import partial sequences in memory from the fasta files because the file size is too large.\n",
    "records = SeqIO.index(\"VectorBase-53_AaegyptiLVP_AGWG_Genome.fasta\", \"fasta\")\n",
    "\n",
    "# if you want to use small fasta file, you can use SeqIO.parse instead of SeqIO.index\n",
    "# SeqIO.parse(\"sample.fasta\", \"fasta\")\n",
    "\n",
    "# See https://biopython.org/docs/1.75/api/Bio.SeqIO.html?highlight=seqio%20index#Bio.SeqIO.index"
   ]
  },
  {
   "cell_type": "code",
   "execution_count": 3,
   "id": "c00c432f",
   "metadata": {},
   "outputs": [
    {
     "data": {
      "text/plain": [
       "['AaegL5_1', 'AaegL5_2', 'AaegL5_3', 'AaegL5_MT', 'NIGP01000004']"
      ]
     },
     "execution_count": 3,
     "metadata": {},
     "output_type": "execute_result"
    }
   ],
   "source": [
    "# Create name list because \"records\" is not list, it is _IndexedSeqFileDict\n",
    "\n",
    "record_names = list(records)\n",
    "record_names[:5]"
   ]
  },
  {
   "cell_type": "code",
   "execution_count": 4,
   "id": "fd5af768",
   "metadata": {},
   "outputs": [
    {
     "data": {
      "text/plain": [
       "SeqRecord(seq=Seq('ACCCTGCGAGAGGCAATTTACCTCAACGAAAACACCTCACCGTCGGAAGCCCGC...CGT'), id='AaegL5_3', name='AaegL5_3', description='AaegL5_3 | organism=Aedes_aegypti_LVP_AGWG | version=AaegL5 | length=409777670 | SO=chromosome', dbxrefs=[])"
      ]
     },
     "execution_count": 4,
     "metadata": {},
     "output_type": "execute_result"
    }
   ],
   "source": [
    "# CHromosome 3 was selected\n",
    "chr3 = records['AaegL5_3']\n",
    "chr3"
   ]
  },
  {
   "cell_type": "code",
   "execution_count": 5,
   "id": "510f0658",
   "metadata": {},
   "outputs": [
    {
     "data": {
      "text/plain": [
       "('AaegL5_3',\n",
       " 'AaegL5_3',\n",
       " 'AaegL5_3 | organism=Aedes_aegypti_LVP_AGWG | version=AaegL5 | length=409777670 | SO=chromosome')"
      ]
     },
     "execution_count": 5,
     "metadata": {},
     "output_type": "execute_result"
    }
   ],
   "source": [
    "chr3.id, chr3.name, chr3.description"
   ]
  },
  {
   "cell_type": "code",
   "execution_count": 6,
   "id": "9182ea1d",
   "metadata": {},
   "outputs": [
    {
     "name": "stdout",
     "output_type": "stream",
     "text": [
      "Chromosome 3 Length =  409777670\n"
     ]
    }
   ],
   "source": [
    "print('Chromosome 3 Length = ', len(chr3.seq))"
   ]
  },
  {
   "cell_type": "code",
   "execution_count": 7,
   "id": "78906ca1",
   "metadata": {},
   "outputs": [
    {
     "data": {
      "text/plain": [
       "Seq('ACCCTGCGAGAGGCAATTTACCTCAACGAAAACACCTCACCGTCGGAAGCCCGC...CGT')"
      ]
     },
     "execution_count": 7,
     "metadata": {},
     "output_type": "execute_result"
    }
   ],
   "source": [
    "chr3.seq"
   ]
  },
  {
   "cell_type": "code",
   "execution_count": 8,
   "id": "0cc67967",
   "metadata": {},
   "outputs": [
    {
     "data": {
      "text/plain": [
       "('A', 'T')"
      ]
     },
     "execution_count": 8,
     "metadata": {},
     "output_type": "execute_result"
    }
   ],
   "source": [
    "# The positions are shown under python numbering (from 0- to (len-1))\n",
    "chr3.seq[0],chr3.seq[len(chr3.seq)-1]\n",
    "\n",
    "# this is error\n",
    "# print(chr3.seq[1]) # No error but position 2\n",
    "# print(chr3.seq[len(chr3.seq)]) # IndexError: index out of range"
   ]
  },
  {
   "cell_type": "markdown",
   "id": "edaf1b0f",
   "metadata": {},
   "source": [
    "#### Usage:\n",
    "\n",
    "## start, end = seq_both_find(ref, query)\n",
    "\n",
    "### arguments:\n",
    "\n",
    "- ref: refrence sequence (Bio.SeqRecord.SeqRecord)\n",
    "- query: query sequence (str)\n",
    "\n",
    "### return\n",
    "\n",
    "- start: start positon of query\n",
    "- end: end positon of query\n",
    "\n",
    "> Firstly, the function seek the query in forward sequence,\n",
    ">\n",
    "> If the trial in forward is fail, the function seek the query in reverse sequence, secondly.\n",
    ">\n",
    "> If the query is found in reverse, end value is smaller than start varue in results.\n",
    " "
   ]
  },
  {
   "cell_type": "code",
   "execution_count": 9,
   "id": "d6432392",
   "metadata": {},
   "outputs": [],
   "source": [
    "def seq_both_find(ref, query) :\n",
    "    # Caution! Biopython identified lower and upper Character.\n",
    "    start = -1\n",
    "    end = -1\n",
    "    seq_query = Seq(query)\n",
    "    pos_f = ref.seq.lower().find(seq_query.lower())\n",
    "    l = len(query) -1\n",
    "    if pos_f > -1 :\n",
    "        start = pos_f\n",
    "        end = pos_f+l\n",
    "    elif pos_f == -1 :\n",
    "        pos_r = ref.seq.lower().find(seq_query.lower().reverse_complement())\n",
    "        if pos_r > -1:\n",
    "            start = pos_r+l\n",
    "            end = pos_r\n",
    "        else:\n",
    "            print(\"The query is not found!\")\n",
    "    return start, end"
   ]
  },
  {
   "cell_type": "code",
   "execution_count": 10,
   "id": "5a9ca426",
   "metadata": {},
   "outputs": [
    {
     "name": "stdout",
     "output_type": "stream",
     "text": [
      "Query1: 'ACCCTGCGAGAGGCAATTTA' (Forward)\n",
      "from:0 end:19\n",
      "\n",
      "Query2: 'taaattgcctctcgcagggt' (Reverse)\n",
      "from:19 end:0\n",
      "\n",
      "Query3: 'gtacttaaccttttcttagccttgcttttgtccaatttcggttcatcctcgct' (Reverse)\n",
      "from:315983762 end:315983710\n",
      "\n",
      "Length=53\n"
     ]
    }
   ],
   "source": [
    "# forward sequence  \n",
    "print(\"Query1: \\'ACCCTGCGAGAGGCAATTTA\\' (Forward)\")\n",
    "start,end = seq_both_find(chr3, 'ACCCTGCGAGAGGCAATTTA')\n",
    "print('from:'+str(start)+' end:'+str(end)+'\\n')\n",
    "\n",
    "# reverse sequence\n",
    "print(\"Query2: \\'taaattgcctctcgcagggt\\' (Reverse)\")\n",
    "start,end = seq_both_find(chr3, 'taaattgcctctcgcagggt')\n",
    "print('from:'+str(start)+' end:'+str(end)+'\\n')\n",
    "\n",
    "\n",
    "# kdr(V1016G) partial sequence \n",
    "print(\"Query3: \\'gtacttaaccttttcttagccttgcttttgtccaatttcggttcatcctcgct\\' (Reverse)\")\n",
    "start,end = seq_both_find(chr3, 'gtacttaaccttttcttagccttgcttttgtccaatttcggttcatcctcgct')\n",
    "print('from:'+str(start)+' end:'+str(end)+'\\n')\n",
    "print('Length='+str( start-end+1))\n"
   ]
  },
  {
   "cell_type": "code",
   "execution_count": 11,
   "id": "5273c92c",
   "metadata": {},
   "outputs": [],
   "source": [
    "# kdr mutations\n",
    "query = {\n",
    "    'S66F':'ttttcttggtttttcctttattttcagcacacccacacaccgttgttttttgaaacgtcttcgcatttgtgataacctgattactaatata',\n",
    "    'A434T':'cgaactccagaagaaggccgaagaggaagaggccgccgaggaagaagcgcttcgg',\n",
    "    'L199F':'cgcgaggtttcatattacaaccgtttacttatcttagagatgcatggaattggtt',\n",
    "    'T1385I':'gtggtattcaagcattcaaaacaatgcgaactcttagagcactgagaccgctacgtgccatgt',\n",
    "    'D1703G':'tccgagtggccaaggtcggtcgtgtgctgcgtctcgtcaagggtgccaaa',\n",
    "    'V1016G':'gtacttaaccttttcttagccttgcttttgtccaatttcggttcatcctcgct',\n",
    "    'F1534C':'cgaccacgtggggaaggcgtacctgtgtctgttccaggtggcaacgttcaagggctggatccagatcat'\n",
    "}"
   ]
  },
  {
   "cell_type": "code",
   "execution_count": 12,
   "id": "02e2f67e",
   "metadata": {},
   "outputs": [
    {
     "name": "stdout",
     "output_type": "stream",
     "text": [
      "S66F: 316170654 to 316170564\n",
      "A434T: 316080683 to 316080629\n",
      "L199F: 316101925 to 316101871\n",
      "T1385I: 315947972 to 315947910\n",
      "D1703G: 315932184 to 315932135\n",
      "V1016G: 315983762 to 315983710\n",
      "F1534C: 315939453 to 315939385\n"
     ]
    }
   ],
   "source": [
    "for k in query.keys():\n",
    "    qseq = query[k]\n",
    "    start,end = seq_both_find(chr3, qseq)\n",
    "    print(k+\": \"+str(start)+\" to \"+str(end))\n",
    "    #見つかった配列の前後1000bpを抽出\n",
    "    output_seq = chr3.seq[start-1000: end+1000].reverse_complement()\n",
    "    seq_r = SeqRecord(output_seq)\n",
    "    seq_r.id = k\n",
    "    seq_r.description = 'ca 2000bp around '+k\n",
    "    with open(\"outputtest/\"+k+\".fasta\", \"w\") as output_file:\n",
    "        SeqIO.write(seq_r, output_file, \"fasta\")"
   ]
  },
  {
   "cell_type": "code",
   "execution_count": 14,
   "id": "5e8acb84",
   "metadata": {},
   "outputs": [],
   "source": [
    "records.close()"
   ]
  }
 ],
 "metadata": {
  "kernelspec": {
   "display_name": "Python 3 (ipykernel)",
   "language": "python",
   "name": "python3"
  },
  "language_info": {
   "codemirror_mode": {
    "name": "ipython",
    "version": 3
   },
   "file_extension": ".py",
   "mimetype": "text/x-python",
   "name": "python",
   "nbconvert_exporter": "python",
   "pygments_lexer": "ipython3",
   "version": "3.8.10"
  }
 },
 "nbformat": 4,
 "nbformat_minor": 5
}
